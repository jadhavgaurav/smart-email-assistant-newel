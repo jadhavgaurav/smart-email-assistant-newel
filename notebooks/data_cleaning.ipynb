{
 "cells": [
  {
   "cell_type": "code",
   "execution_count": 9,
   "id": "47a5b3e9",
   "metadata": {},
   "outputs": [],
   "source": [
    "import pandas as pd\n",
    "import numpy as np\n",
    "import seaborn as sns\n",
    "import matplotlib.pyplot as plt\n",
    "\n",
    "from sklearn.model_selection import train_test_split\n",
    "from sklearn.feature_extraction.text import TfidfVectorizer\n",
    "from sklearn.linear_model import LogisticRegression\n",
    "from sklearn.ensemble import RandomForestClassifier\n",
    "\n",
    "from xgboost import XGBClassifier\n",
    "\n",
    "from sklearn.preprocessing import LabelEncoder\n",
    "\n",
    "from sklearn.metrics import accuracy_score, classification_report, confusion_matrix\n",
    "import joblib\n",
    "\n"
   ]
  },
  {
   "cell_type": "code",
   "execution_count": 10,
   "id": "1b43c9bc",
   "metadata": {},
   "outputs": [
    {
     "data": {
      "text/html": [
       "<div>\n",
       "<style scoped>\n",
       "    .dataframe tbody tr th:only-of-type {\n",
       "        vertical-align: middle;\n",
       "    }\n",
       "\n",
       "    .dataframe tbody tr th {\n",
       "        vertical-align: top;\n",
       "    }\n",
       "\n",
       "    .dataframe thead th {\n",
       "        text-align: right;\n",
       "    }\n",
       "</style>\n",
       "<table border=\"1\" class=\"dataframe\">\n",
       "  <thead>\n",
       "    <tr style=\"text-align: right;\">\n",
       "      <th></th>\n",
       "      <th>email_text</th>\n",
       "      <th>category</th>\n",
       "    </tr>\n",
       "  </thead>\n",
       "  <tbody>\n",
       "    <tr>\n",
       "      <th>555</th>\n",
       "      <td>Iâ€™m facing recurring issues with Outlook whe...</td>\n",
       "      <td>IT</td>\n",
       "    </tr>\n",
       "    <tr>\n",
       "      <th>586</th>\n",
       "      <td>My laptop has been overheating and shutting do...</td>\n",
       "      <td>IT</td>\n",
       "    </tr>\n",
       "    <tr>\n",
       "      <th>353</th>\n",
       "      <td>The annual company day is coming up! Block you...</td>\n",
       "      <td>Other</td>\n",
       "    </tr>\n",
       "    <tr>\n",
       "      <th>473</th>\n",
       "      <td>I require access to our cloud resource dashboa...</td>\n",
       "      <td>IT</td>\n",
       "    </tr>\n",
       "    <tr>\n",
       "      <th>894</th>\n",
       "      <td>We are excited to announce our annual cultural...</td>\n",
       "      <td>Other</td>\n",
       "    </tr>\n",
       "    <tr>\n",
       "      <th>...</th>\n",
       "      <td>...</td>\n",
       "      <td>...</td>\n",
       "    </tr>\n",
       "    <tr>\n",
       "      <th>609</th>\n",
       "      <td>Please help me install Python 3.10. I donâ€™t ...</td>\n",
       "      <td>IT</td>\n",
       "    </tr>\n",
       "    <tr>\n",
       "      <th>704</th>\n",
       "      <td>Need admin access for a software install.</td>\n",
       "      <td>IT</td>\n",
       "    </tr>\n",
       "    <tr>\n",
       "      <th>372</th>\n",
       "      <td>Requesting help with setting up my development...</td>\n",
       "      <td>IT</td>\n",
       "    </tr>\n",
       "    <tr>\n",
       "      <th>876</th>\n",
       "      <td>Iâ€™m facing recurring issues with Outlook whe...</td>\n",
       "      <td>IT</td>\n",
       "    </tr>\n",
       "    <tr>\n",
       "      <th>214</th>\n",
       "      <td>Good afternoon,\\nSomeone contacted me Today fo...</td>\n",
       "      <td>HR</td>\n",
       "    </tr>\n",
       "  </tbody>\n",
       "</table>\n",
       "<p>902 rows × 2 columns</p>\n",
       "</div>"
      ],
      "text/plain": [
       "                                            email_text category\n",
       "555  Iâ€™m facing recurring issues with Outlook whe...       IT\n",
       "586  My laptop has been overheating and shutting do...       IT\n",
       "353  The annual company day is coming up! Block you...    Other\n",
       "473  I require access to our cloud resource dashboa...       IT\n",
       "894  We are excited to announce our annual cultural...    Other\n",
       "..                                                 ...      ...\n",
       "609  Please help me install Python 3.10. I donâ€™t ...       IT\n",
       "704          Need admin access for a software install.       IT\n",
       "372  Requesting help with setting up my development...       IT\n",
       "876  Iâ€™m facing recurring issues with Outlook whe...       IT\n",
       "214  Good afternoon,\\nSomeone contacted me Today fo...       HR\n",
       "\n",
       "[902 rows x 2 columns]"
      ]
     },
     "execution_count": 10,
     "metadata": {},
     "output_type": "execute_result"
    }
   ],
   "source": [
    "df = pd.read_csv(\"../data/emails.csv\")\n",
    "df.sample(frac=1)\n"
   ]
  },
  {
   "cell_type": "code",
   "execution_count": 11,
   "id": "04e22c0a",
   "metadata": {},
   "outputs": [
    {
     "name": "stdout",
     "output_type": "stream",
     "text": [
      "<class 'pandas.core.frame.DataFrame'>\n",
      "RangeIndex: 902 entries, 0 to 901\n",
      "Data columns (total 2 columns):\n",
      " #   Column      Non-Null Count  Dtype \n",
      "---  ------      --------------  ----- \n",
      " 0   email_text  902 non-null    object\n",
      " 1   category    902 non-null    object\n",
      "dtypes: object(2)\n",
      "memory usage: 14.2+ KB\n"
     ]
    }
   ],
   "source": [
    "df.info()"
   ]
  },
  {
   "cell_type": "code",
   "execution_count": 12,
   "id": "35e0e901",
   "metadata": {},
   "outputs": [
    {
     "data": {
      "text/plain": [
       "category\n",
       "IT       303\n",
       "Other    301\n",
       "HR       298\n",
       "Name: count, dtype: int64"
      ]
     },
     "execution_count": 12,
     "metadata": {},
     "output_type": "execute_result"
    }
   ],
   "source": [
    "df[\"category\"] = df[\"category\"].replace({\"Customer Service\": \"Other\"})\n",
    "\n",
    "# Remove null/empty rows\n",
    "df.dropna(subset=[\"email_text\", \"category\"], inplace=True)\n",
    "df = df[df[\"email_text\"].str.strip() != \"\"]\n",
    "\n",
    "df[\"category\"].value_counts()\n"
   ]
  },
  {
   "cell_type": "code",
   "execution_count": 13,
   "id": "c2331a14",
   "metadata": {},
   "outputs": [
    {
     "data": {
      "text/plain": [
       "Text(0.5, 1.0, 'Distribution of Email Labels')"
      ]
     },
     "execution_count": 13,
     "metadata": {},
     "output_type": "execute_result"
    },
    {
     "data": {
      "image/png": "[encoded data removed]",
      "text/plain": [
       "<Figure size 600x600 with 1 Axes>"
      ]
     },
     "metadata": {},
     "output_type": "display_data"
    }
   ],
   "source": [
    "import matplotlib.pyplot as plt\n",
    "import seaborn as sns\n",
    "\n",
    "plt.figure(figsize=(6, 6))\n",
    "plt.pie(df['category'].value_counts(), labels=df['category'].unique(), autopct='%1.1f%%', startangle=140)\n",
    "plt.title('Distribution of Email Labels')\n"
   ]
  },
  {
   "cell_type": "code",
   "execution_count": 14,
   "id": "b5850833",
   "metadata": {},
   "outputs": [
    {
     "data": {
      "text/html": [
       "<div>\n",
       "<style scoped>\n",
       "    .dataframe tbody tr th:only-of-type {\n",
       "        vertical-align: middle;\n",
       "    }\n",
       "\n",
       "    .dataframe tbody tr th {\n",
       "        vertical-align: top;\n",
       "    }\n",
       "\n",
       "    .dataframe thead th {\n",
       "        text-align: right;\n",
       "    }\n",
       "</style>\n",
       "<table border=\"1\" class=\"dataframe\">\n",
       "  <thead>\n",
       "    <tr style=\"text-align: right;\">\n",
       "      <th></th>\n",
       "      <th>email_text</th>\n",
       "      <th>clean_text</th>\n",
       "      <th>category</th>\n",
       "    </tr>\n",
       "  </thead>\n",
       "  <tbody>\n",
       "    <tr>\n",
       "      <th>0</th>\n",
       "      <td>I am inquiring about the possibility of purch...</td>\n",
       "      <td>i am inquiring about the possibility of purcha...</td>\n",
       "      <td>Other</td>\n",
       "    </tr>\n",
       "    <tr>\n",
       "      <th>1</th>\n",
       "      <td>I recently made a purchase through the Giving ...</td>\n",
       "      <td>i recently made a purchase through the giving ...</td>\n",
       "      <td>Other</td>\n",
       "    </tr>\n",
       "    <tr>\n",
       "      <th>2</th>\n",
       "      <td>I placed an order through the website; however...</td>\n",
       "      <td>i placed an order through the website however ...</td>\n",
       "      <td>Other</td>\n",
       "    </tr>\n",
       "    <tr>\n",
       "      <th>3</th>\n",
       "      <td>Hello \\nI received my order but I noticed that...</td>\n",
       "      <td>hello i received my order but i noticed that t...</td>\n",
       "      <td>Other</td>\n",
       "    </tr>\n",
       "    <tr>\n",
       "      <th>4</th>\n",
       "      <td>Good morning \\nI am wondering if the discount ...</td>\n",
       "      <td>good morning i am wondering if the discount co...</td>\n",
       "      <td>Other</td>\n",
       "    </tr>\n",
       "  </tbody>\n",
       "</table>\n",
       "</div>"
      ],
      "text/plain": [
       "                                          email_text  \\\n",
       "0   I am inquiring about the possibility of purch...   \n",
       "1  I recently made a purchase through the Giving ...   \n",
       "2  I placed an order through the website; however...   \n",
       "3  Hello \\nI received my order but I noticed that...   \n",
       "4  Good morning \\nI am wondering if the discount ...   \n",
       "\n",
       "                                          clean_text category  \n",
       "0  i am inquiring about the possibility of purcha...    Other  \n",
       "1  i recently made a purchase through the giving ...    Other  \n",
       "2  i placed an order through the website however ...    Other  \n",
       "3  hello i received my order but i noticed that t...    Other  \n",
       "4  good morning i am wondering if the discount co...    Other  "
      ]
     },
     "execution_count": 14,
     "metadata": {},
     "output_type": "execute_result"
    }
   ],
   "source": [
    "import re\n",
    "\n",
    "def clean_text(text):\n",
    "    text = text.lower()\n",
    "    text = re.sub(r\"http\\S+\", \"\", text)  # remove URLs\n",
    "    text = re.sub(r\"[^a-z\\s]\", \"\", text) # remove non-alphabet\n",
    "    text = re.sub(r\"\\s+\", \" \", text).strip()\n",
    "    return text\n",
    "\n",
    "df[\"clean_text\"] = df[\"email_text\"].apply(clean_text)\n",
    "df[[\"email_text\", \"clean_text\", \"category\"]].head()\n"
   ]
  },
  {
   "cell_type": "code",
   "execution_count": 15,
   "id": "5857301d",
   "metadata": {},
   "outputs": [],
   "source": [
    "X = df[\"clean_text\"]\n",
    "y = df[\"category\"]\n",
    "\n",
    "X_train, X_test, y_train, y_test = train_test_split(X, y, test_size=0.2, random_state=42, stratify=y)\n"
   ]
  },
  {
   "cell_type": "code",
   "execution_count": 16,
   "id": "6e3bdb28",
   "metadata": {},
   "outputs": [
    {
     "data": {
      "text/plain": [
       "((721, 2593), (181, 2593))"
      ]
     },
     "execution_count": 16,
     "metadata": {},
     "output_type": "execute_result"
    }
   ],
   "source": [
    "vectorizer = TfidfVectorizer(max_features=5000)\n",
    "X_train_vec = vectorizer.fit_transform(X_train)\n",
    "X_test_vec = vectorizer.transform(X_test)\n",
    "\n",
    "X_train_vec.shape, X_test_vec.shape"
   ]
  },
  {
   "cell_type": "code",
   "execution_count": 17,
   "id": "03e6d0c5",
   "metadata": {},
   "outputs": [
    {
     "name": "stdout",
     "output_type": "stream",
     "text": [
      "Label Mapping: {'HR': np.int64(0), 'IT': np.int64(1), 'Other': np.int64(2)}\n"
     ]
    }
   ],
   "source": [
    "from sklearn.preprocessing import LabelEncoder\n",
    "\n",
    "label_encoder = LabelEncoder()\n",
    "y_train_enc = label_encoder.fit_transform(y_train)\n",
    "y_test_enc = label_encoder.transform(y_test)\n",
    "\n",
    "# Optional: View mapping\n",
    "label_mapping = dict(zip(label_encoder.classes_, label_encoder.transform(label_encoder.classes_)))\n",
    "print(\"Label Mapping:\", label_mapping)\n",
    "\n"
   ]
  },
  {
   "cell_type": "code",
   "execution_count": 18,
   "id": "1be44163",
   "metadata": {},
   "outputs": [
    {
     "name": "stdout",
     "output_type": "stream",
     "text": [
      "LR Accuracy: 0.9281767955801105\n",
      "              precision    recall  f1-score   support\n",
      "\n",
      "          HR       0.92      0.98      0.95        60\n",
      "          IT       0.92      0.93      0.93        61\n",
      "       Other       0.95      0.87      0.90        60\n",
      "\n",
      "    accuracy                           0.93       181\n",
      "   macro avg       0.93      0.93      0.93       181\n",
      "weighted avg       0.93      0.93      0.93       181\n",
      "\n"
     ]
    }
   ],
   "source": [
    "lr = LogisticRegression(max_iter=500)\n",
    "lr.fit(X_train_vec, y_train)\n",
    "\n",
    "y_pred_lr = lr.predict(X_test_vec)\n",
    "print(\"LR Accuracy:\", accuracy_score(y_test, y_pred_lr))\n",
    "print(classification_report(y_test, y_pred_lr))\n"
   ]
  },
  {
   "cell_type": "code",
   "execution_count": 19,
   "id": "be3967d5",
   "metadata": {},
   "outputs": [
    {
     "name": "stdout",
     "output_type": "stream",
     "text": [
      "RF Accuracy: 0.9281767955801105\n",
      "              precision    recall  f1-score   support\n",
      "\n",
      "          HR       0.92      0.98      0.95        60\n",
      "          IT       0.92      0.93      0.93        61\n",
      "       Other       0.95      0.87      0.90        60\n",
      "\n",
      "    accuracy                           0.93       181\n",
      "   macro avg       0.93      0.93      0.93       181\n",
      "weighted avg       0.93      0.93      0.93       181\n",
      "\n"
     ]
    }
   ],
   "source": [
    "rf = RandomForestClassifier(n_estimators=100)\n",
    "rf.fit(X_train_vec, y_train)\n",
    "\n",
    "y_pred_rf = rf.predict(X_test_vec)\n",
    "print(\"RF Accuracy:\", accuracy_score(y_test, y_pred_rf))\n",
    "print(classification_report(y_test, y_pred_rf))\n"
   ]
  },
  {
   "cell_type": "code",
   "execution_count": 20,
   "id": "c1faa080",
   "metadata": {},
   "outputs": [
    {
     "name": "stderr",
     "output_type": "stream",
     "text": [
      "c:\\Users\\gaura\\AppData\\Local\\pypoetry\\Cache\\virtualenvs\\smart-email-assistant-D3JU6J3z-py3.11\\Lib\\site-packages\\xgboost\\training.py:183: UserWarning: [20:36:59] WARNING: C:\\actions-runner\\_work\\xgboost\\xgboost\\src\\learner.cc:738: \n",
      "Parameters: { \"use_label_encoder\" } are not used.\n",
      "\n",
      "  bst.update(dtrain, iteration=i, fobj=obj)\n"
     ]
    },
    {
     "name": "stdout",
     "output_type": "stream",
     "text": [
      "XGBoost Accuracy: 0.9060773480662984\n",
      "              precision    recall  f1-score   support\n",
      "\n",
      "          HR       0.90      1.00      0.94        60\n",
      "          IT       0.91      0.87      0.89        61\n",
      "       Other       0.91      0.85      0.88        60\n",
      "\n",
      "    accuracy                           0.91       181\n",
      "   macro avg       0.91      0.91      0.90       181\n",
      "weighted avg       0.91      0.91      0.90       181\n",
      "\n"
     ]
    }
   ],
   "source": [
    "xgb = XGBClassifier(use_label_encoder=False, eval_metric='mlogloss')\n",
    "xgb.fit(X_train_vec, y_train_enc)\n",
    "\n",
    "y_pred_xgb = xgb.predict(X_test_vec)\n",
    "\n",
    "# Decode predictions back to string labels for evaluation\n",
    "y_pred_xgb_labels = label_encoder.inverse_transform(y_pred_xgb)\n",
    "\n",
    "# Now evaluate\n",
    "print(\"XGBoost Accuracy:\", accuracy_score(y_test, y_pred_xgb_labels))\n",
    "print(classification_report(y_test, y_pred_xgb_labels))\n"
   ]
  },
  {
   "cell_type": "code",
   "execution_count": 21,
   "id": "09fb235b",
   "metadata": {},
   "outputs": [
    {
     "name": "stdout",
     "output_type": "stream",
     "text": [
      "Decision Tree Accuracy: 0.8674033149171271\n",
      "              precision    recall  f1-score   support\n",
      "\n",
      "          HR       0.93      0.90      0.92        60\n",
      "          IT       0.89      0.82      0.85        61\n",
      "       Other       0.79      0.88      0.83        60\n",
      "\n",
      "    accuracy                           0.87       181\n",
      "   macro avg       0.87      0.87      0.87       181\n",
      "weighted avg       0.87      0.87      0.87       181\n",
      "\n"
     ]
    }
   ],
   "source": [
    "# Decision Tree\n",
    "from sklearn.tree import DecisionTreeClassifier\n",
    "dt = DecisionTreeClassifier()\n",
    "dt.fit(X_train_vec, y_train)\n",
    "y_pred_dt = dt.predict(X_test_vec)\n",
    "print(\"Decision Tree Accuracy:\", accuracy_score(y_test, y_pred_dt))\n",
    "print(classification_report(y_test, y_pred_dt))"
   ]
  },
  {
   "cell_type": "code",
   "execution_count": null,
   "id": "e12b8afb",
   "metadata": {},
   "outputs": [
    {
     "data": {
      "image/png": "[encoded data removed]",
      "text/plain": [
       "<Figure size 640x480 with 2 Axes>"
      ]
     },
     "metadata": {},
     "output_type": "display_data"
    },
    {
     "data": {
      "image/png": "[encoded data removed]",
      "text/plain": [
       "<Figure size 640x480 with 2 Axes>"
      ]
     },
     "metadata": {},
     "output_type": "display_data"
    },
    {
     "data": {
      "image/png": "[encoded data removed]",
      "text/plain": [
       "<Figure size 640x480 with 2 Axes>"
      ]
     },
     "metadata": {},
     "output_type": "display_data"
    }
   ],
   "source": [
    "def plot_confusion(model_name, y_true, y_pred):\n",
    "    cm = confusion_matrix(y_true, y_pred, labels=[\"HR\", \"IT\", \"Other\"])\n",
    "    sns.heatmap(cm, annot=True, fmt='d', cmap='Blues', \n",
    "                xticklabels=[\"HR\", \"IT\", \"Other\"],\n",
    "                yticklabels=[\"HR\", \"IT\", \"Other\"])\n",
    "    plt.title(f\"{model_name} Confusion Matrix\")\n",
    "    plt.ylabel(\"Actual\")\n",
    "    plt.xlabel(\"Predicted\")\n",
    "    plt.show()\n",
    "\n",
    "plot_confusion(\"Logistic Regression\", y_test, y_pred_lr)\n",
    "plot_confusion(\"Random Forest\", y_test, y_pred_rf)\n",
    "plot_confusion(\"XGBoost\", y_test, y_pred_xgb_labels)\n",
    "\n",
    "#save model evaluation png\n",
    "\n"
   ]
  },
  {
   "cell_type": "code",
   "execution_count": 23,
   "id": "61e92d4a",
   "metadata": {},
   "outputs": [
    {
     "name": "stdout",
     "output_type": "stream",
     "text": [
      "✅ Model, vectorizer, and label encoder saved!\n"
     ]
    }
   ],
   "source": [
    "joblib.dump(rf, \"../models/model.pkl\")\n",
    "joblib.dump(vectorizer, \"../models/vectorizer.pkl\")\n",
    "joblib.dump(label_encoder, \"../models/label_encoder.pkl\")\n",
    "\n",
    "print(\"✅ Model, vectorizer, and label encoder saved!\")"
   ]
  },
  {
   "cell_type": "markdown",
   "id": "14d20f7c",
   "metadata": {},
   "source": [
    "### Since the Accuracy of LogisticRegression model is highest (0.93) we will continue with LogisticRegression "
   ]
  },
  {
   "cell_type": "code",
   "execution_count": null,
   "id": "5af63a08",
   "metadata": {},
   "outputs": [],
   "source": []
  }
 ],
 "metadata": {
  "kernelspec": {
   "display_name": "smart-email-assistant-D3JU6J3z-py3.11",
   "language": "python",
   "name": "python3"
  },
  "language_info": {
   "codemirror_mode": {
    "name": "ipython",
    "version": 3
   },
   "file_extension": ".py",
   "mimetype": "text/x-python",
   "name": "python",
   "nbconvert_exporter": "python",
   "pygments_lexer": "ipython3",
   "version": "3.11.9"
  }
 },
 "nbformat": 4,
 "nbformat_minor": 5
}
